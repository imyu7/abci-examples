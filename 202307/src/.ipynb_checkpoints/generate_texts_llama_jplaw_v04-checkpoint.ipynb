{
 "cells": [
  {
   "cell_type": "code",
   "execution_count": 1,
   "metadata": {},
   "outputs": [],
   "source": [
    "import datetime\n",
    "import json\n",
    "import logging\n",
    "import os\n",
    "import pathlib\n",
    "import sys\n",
    "import pydoc\n",
    "import time\n",
    "\n",
    "import datasets\n",
    "import fire\n",
    "import torch\n",
    "import yaml\n",
    "\n",
    "import transformers"
   ]
  },
  {
   "cell_type": "code",
   "execution_count": 2,
   "metadata": {},
   "outputs": [],
   "source": [
    "def load_dataset(test_file: str):\n",
    "    return datasets.load_dataset(\"json\", data_files=test_file, split=\"train\")\n",
    "\n",
    "def generate_text_fn(model, tokenizer, args: dict = {}):\n",
    "    def generate_text(prompt: str) -> str:\n",
    "        input_tokens = tokenizer(prompt, return_tensors=\"pt\").to(model.device)\n",
    "        input_length = input_tokens.input_ids.shape[1]\n",
    "\n",
    "        with torch.no_grad():\n",
    "            outputs = model.generate(\n",
    "                input_ids=input_tokens[\"input_ids\"],\n",
    "                attention_mask=input_tokens[\"attention_mask\"],\n",
    "                return_dict_in_generate=True,\n",
    "                eos_token_id=tokenizer.eos_token_id,\n",
    "                pad_token_id=tokenizer.pad_token_id,\n",
    "                **args,\n",
    "            )\n",
    "            output_tokens = outputs.sequences[0, input_length:-1]\n",
    "\n",
    "        return tokenizer.decode(output_tokens)\n",
    "\n",
    "    return generate_text"
   ]
  },
  {
   "cell_type": "code",
   "execution_count": 3,
   "metadata": {},
   "outputs": [
    {
     "name": "stdout",
     "output_type": "stream",
     "text": [
      "{'model': {'pretrained_model_name_or_path': '/groups/4/gcb50389/pretrained/llama2-HF/Llama-2-7b-hf', 'device_map': 'auto', 'trust_remote_code': True}, 'generate': {'max_length': 4096, 'temperature': 0.7, 'top_p': 0.9, 'repetition_penalty': 1.05}, 'data': {'test_file1': '../data/R1_short_answer_exam.json', 'test_file2': '../data/R2_short_answer_exam.json', 'test_file3': '../data/R3_short_answer_exam.json'}, 'outputs': {'dirname': '../outputs', 'filename': 'generated_text_05.jsonl'}, 'prompt': '日本の法律に基づき、設問に対する答えを回答してください。\\n\\n設問：意思表示に関する次のアからオまでの各記述のうち，判例の趣旨に照らし正しいものを組み合わせたものは，後記１から５までのうちどれか。ア．土地の仮装譲受人が当該土地上に建物を建築してこれを他人に賃貸した場合，その建物賃借人は，民法第９４条第２項の「第三者」に当たらない。イ．強迫による意思表示の取消しが認められるためには，表意者が，畏怖の結果，完全に意思の自由を失ったことを要する。ウ．Ａを欺罔してその農地を買い受けたＢが，農地法上の許可を停止条件とする所有権移転の仮登記を得た上で，当該売買契約上の権利をＣに譲渡して当該仮登記移転の付記登記をした場合には，Ｃは民法第９６条第３項の「第三者」に当たる。エ．協議離婚に伴う財産分与契約において，分与者は，自己に譲渡所得税が課されることを知らず，課税されないとの理解を当然の前提とし，かつ，その旨を黙示的に表示していた場合であっても，財産分与契約について錯誤による無効を主張することはできない。オ．特定の意思表示が記載された内容証明郵便が受取人不在のために配達することができず，留置期間の経過により差出人に還付された場合，受取人がその内容を十分に推知することができ，受領も困難でなかったとしても，当該意思表示が受取人に到達したものと認められることはない。１．アイ ２．アウ ３．イオ ４．ウエ ５．エオ民法第９４条２前項の規定による意思表示の無効は，善意の第三者に対抗することができない。第９６条１，２３前二項の規定による詐欺による意思表示の取消しは，善意の第三者に対抗することができない。\\n答え：2\\n\\n設問：弁済に関する次のアからオまでの各記述のうち，判例の趣旨に照らし正しいものを組み合わせたものは，後記１から５までのうちどれか。ア．委託を受けない保証人は，主たる債務者の意思に反して弁済することができない。イ．弁済を受領する権限を有しない者に対する弁済は，債権者がこれによって利益を受けたとしても，債権者に対し効力を有しない。ウ．第三者は，当事者が合意により禁止したときは，弁済をすることができない。エ．弁済の時期について不確定期限があるときは，債務者は，その期限の到来した後に履行の請求を受けた時又はその期限の到来したことを知った時のいずれか早い時から遅滞の責任を負う。オ．預金通帳を盗んだ者が預金通帳を使用して現金自動入出機から預金の払戻しを受ける行為については，弁済の効力が生じることはない。１．アウ ２．アオ ３．イエ ４．イオ ５．ウエ\\n答え：5\\n\\n設問：免除に関する次のアからオまでの各記述のうち，正しいものを組み合わせたものは，後記１から５までのうちどれか。ア．債権者が債務者に免除の意思を表示した場合，免除の効果は，債務者が債権者に対して免除の利益を享受する意思を表示した時に発生する。イ．債務の免除があった場合において，債務者が債務の免除を受けたことを忘れて弁済したときは，債務者はその返還を求めることはできない。ウ．Ａに対し，ＢＣＤが等しい負担部分で３００万円の連帯債務を負っている場合において，ＡがＣについて連帯の免除をしたときでも，Ｂ及びＤは，Ａに対し，３００万円の連帯債務を負う。エ．Ａに対し，ＢＣＤが等しい負担部分で３００万円の連帯債務を負っている場合において，ＡがＣに対して３００万円の連帯債務全額について免除をしたときでも，Ｂ及びＤは，Ａに対し，３００万円の連帯債務を負う。オ．主たる債務者について債務の免除があった場合には，連帯保証人の債務は消滅する。１．アイ ２．アエ ３．イウ ４．ウオ ５．エオ\\n答え：4\\n\\n設問: {question}\\n答え: '}\n"
     ]
    }
   ],
   "source": [
    "# 設定ファイルの読み込み\n",
    "config_file = \"../config/config_generate_texts_llama_jplaw_v04.yaml\"\n",
    "with open(config_file, \"r\") as i_:\n",
    "    config = yaml.safe_load(i_)\n",
    "    \n",
    "print(config)"
   ]
  },
  {
   "cell_type": "code",
   "execution_count": 4,
   "metadata": {},
   "outputs": [
    {
     "name": "stdout",
     "output_type": "stream",
     "text": [
      "model_name: /groups/4/gcb50389/pretrained/llama2-HF/Llama-2-7b-hf\n",
      "load tokenizer\n"
     ]
    },
    {
     "name": "stderr",
     "output_type": "stream",
     "text": [
      "Using pad_token, but it is not set yet.\n"
     ]
    },
    {
     "name": "stdout",
     "output_type": "stream",
     "text": [
      "load model: {'pretrained_model_name_or_path': '/groups/4/gcb50389/pretrained/llama2-HF/Llama-2-7b-hf', 'device_map': 'auto', 'trust_remote_code': True}\n",
      "[2023-11-09 02:09:57,470] [INFO] [real_accelerator.py:110:get_accelerator] Setting ds_accelerator to cuda (auto detect)\n"
     ]
    },
    {
     "name": "stderr",
     "output_type": "stream",
     "text": [
      "2023-11-09 02:09:59.085990: E tensorflow/compiler/xla/stream_executor/cuda/cuda_dnn.cc:9342] Unable to register cuDNN factory: Attempting to register factory for plugin cuDNN when one has already been registered\n",
      "2023-11-09 02:09:59.086040: E tensorflow/compiler/xla/stream_executor/cuda/cuda_fft.cc:609] Unable to register cuFFT factory: Attempting to register factory for plugin cuFFT when one has already been registered\n",
      "2023-11-09 02:09:59.086076: E tensorflow/compiler/xla/stream_executor/cuda/cuda_blas.cc:1518] Unable to register cuBLAS factory: Attempting to register factory for plugin cuBLAS when one has already been registered\n",
      "2023-11-09 02:09:59.100257: I tensorflow/core/platform/cpu_feature_guard.cc:182] This TensorFlow binary is optimized to use available CPU instructions in performance-critical operations.\n",
      "To enable the following instructions: AVX2 AVX512F FMA, in other operations, rebuild TensorFlow with the appropriate compiler flags.\n",
      "2023-11-09 02:10:01.175876: W tensorflow/compiler/tf2tensorrt/utils/py_utils.cc:38] TF-TRT Warning: Could not find TensorRT\n"
     ]
    },
    {
     "data": {
      "application/vnd.jupyter.widget-view+json": {
       "model_id": "0c71f7ef6d254bc9bc5b38f25dd50914",
       "version_major": 2,
       "version_minor": 0
      },
      "text/plain": [
       "Loading checkpoint shards:   0%|          | 0/2 [00:00<?, ?it/s]"
      ]
     },
     "metadata": {},
     "output_type": "display_data"
    }
   ],
   "source": [
    "model_name = config[\"model\"][\"pretrained_model_name_or_path\"]\n",
    "    \n",
    "# logger.info(f\"model_name: {model_name}\")\n",
    "print(f\"model_name: {model_name}\")\n",
    "\n",
    "# 出力先ディレクトリの設定\n",
    "output_dir = pathlib.Path(os.path.expandvars(config[\"outputs\"][\"dirname\"]))\n",
    "output_dir.mkdir(parents=True, exist_ok=True)\n",
    "\n",
    "# 出力先ディレクトリに、最終的な設定値を保存しておく\n",
    "with open(output_dir.joinpath(\"config.yaml\"), \"w\") as o_:\n",
    "    yaml.dump(config, o_)\n",
    "\n",
    "# トークナイザのロード\n",
    "# logger.info(f\"load tokenizer\")\n",
    "print(f\"load tokenizer\")\n",
    "tokenizer = transformers.AutoTokenizer.from_pretrained(model_name)\n",
    "if tokenizer.pad_token is None:\n",
    "    tokenizer.pad_token = tokenizer.eos_token\n",
    "    # logger.info(f\"set pad_token to {tokenizer.pad_token}\")\n",
    "    \n",
    "\n",
    "# モデルのロード\n",
    "# logger.info(f\"load model: {config['model']}\")\n",
    "print(f\"load model: {config['model']}\")\n",
    "# torch_dtypeを文字列から型に変換しておく\n",
    "if \"torch_dtype\" in config[\"model\"]:\n",
    "    config[\"model\"][\"torch_dtype\"] = pydoc.locate(config[\"model\"][\"torch_dtype\"])\n",
    "model = transformers.AutoModelForCausalLM.from_pretrained(**config[\"model\"])\n",
    "\n",
    "generate_text = generate_text_fn(model, tokenizer, config[\"generate\"])\n",
    "# generate_text = generate_text_fn(model, tokenizer)\n",
    "output_file = output_dir.joinpath(config[\"outputs\"][\"filename\"])"
   ]
  },
  {
   "cell_type": "code",
   "execution_count": 5,
   "metadata": {},
   "outputs": [
    {
     "name": "stdout",
     "output_type": "stream",
     "text": [
      "Thu Nov  9 02:15:33 2023       \n",
      "+-----------------------------------------------------------------------------+\n",
      "| NVIDIA-SMI 525.105.17   Driver Version: 525.105.17   CUDA Version: 12.0     |\n",
      "|-------------------------------+----------------------+----------------------+\n",
      "| GPU  Name        Persistence-M| Bus-Id        Disp.A | Volatile Uncorr. ECC |\n",
      "| Fan  Temp  Perf  Pwr:Usage/Cap|         Memory-Usage | GPU-Util  Compute M. |\n",
      "|                               |                      |               MIG M. |\n",
      "|===============================+======================+======================|\n",
      "|   0  Tesla V100-SXM2...  On   | 00000000:3D:00.0 Off |                    0 |\n",
      "| N/A   32C    P0    58W / 300W |   6857MiB / 16384MiB |      0%      Default |\n",
      "|                               |                      |                  N/A |\n",
      "+-------------------------------+----------------------+----------------------+\n",
      "|   1  Tesla V100-SXM2...  On   | 00000000:3E:00.0 Off |                    0 |\n",
      "| N/A   30C    P0    57W / 300W |   7901MiB / 16384MiB |      0%      Default |\n",
      "|                               |                      |                  N/A |\n",
      "+-------------------------------+----------------------+----------------------+\n",
      "|   2  Tesla V100-SXM2...  On   | 00000000:B1:00.0 Off |                    0 |\n",
      "| N/A   31C    P0    56W / 300W |   7901MiB / 16384MiB |      0%      Default |\n",
      "|                               |                      |                  N/A |\n",
      "+-------------------------------+----------------------+----------------------+\n",
      "|   3  Tesla V100-SXM2...  On   | 00000000:B2:00.0 Off |                    0 |\n",
      "| N/A   32C    P0    59W / 300W |   6857MiB / 16384MiB |      0%      Default |\n",
      "|                               |                      |                  N/A |\n",
      "+-------------------------------+----------------------+----------------------+\n",
      "                                                                               \n",
      "+-----------------------------------------------------------------------------+\n",
      "| Processes:                                                                  |\n",
      "|  GPU   GI   CI        PID   Type   Process name                  GPU Memory |\n",
      "|        ID   ID                                                   Usage      |\n",
      "|=============================================================================|\n",
      "|    0   N/A  N/A   2299750      C   ...z/jupyter_env/bin/python3     6854MiB |\n",
      "|    1   N/A  N/A   2299750      C   ...z/jupyter_env/bin/python3     7898MiB |\n",
      "|    2   N/A  N/A   2299750      C   ...z/jupyter_env/bin/python3     7898MiB |\n",
      "|    3   N/A  N/A   2299750      C   ...z/jupyter_env/bin/python3     6854MiB |\n",
      "+-----------------------------------------------------------------------------+\n"
     ]
    }
   ],
   "source": [
    "!nvidia-smi"
   ]
  },
  {
   "cell_type": "code",
   "execution_count": 6,
   "metadata": {},
   "outputs": [
    {
     "name": "stdout",
     "output_type": "stream",
     "text": [
      "1699463740.5782263\n",
      "processing R1 data.\n"
     ]
    },
    {
     "name": "stderr",
     "output_type": "stream",
     "text": [
      "Found cached dataset json (/home/acf15802az/.cache/huggingface/datasets/json/default-9daf52417ac5f3f8/0.0.0/e347ab1c932092252e717ff3f949105a4dd28b27e842dd53157d2f72e276c2e4)\n"
     ]
    },
    {
     "name": "stdout",
     "output_type": "stream",
     "text": [
      "processing 20th data.\n",
      "processing R2 data.\n",
      "Downloading and preparing dataset json/default to /home/acf15802az/.cache/huggingface/datasets/json/default-e81a17a045232274/0.0.0/e347ab1c932092252e717ff3f949105a4dd28b27e842dd53157d2f72e276c2e4...\n"
     ]
    },
    {
     "data": {
      "application/vnd.jupyter.widget-view+json": {
       "model_id": "e394f4f3af774e7e914efe5e50a9e32d",
       "version_major": 2,
       "version_minor": 0
      },
      "text/plain": [
       "Downloading data files:   0%|          | 0/1 [00:00<?, ?it/s]"
      ]
     },
     "metadata": {},
     "output_type": "display_data"
    },
    {
     "data": {
      "application/vnd.jupyter.widget-view+json": {
       "model_id": "cf5ffdef7a5c4351bb889723769069f7",
       "version_major": 2,
       "version_minor": 0
      },
      "text/plain": [
       "Extracting data files:   0%|          | 0/1 [00:00<?, ?it/s]"
      ]
     },
     "metadata": {},
     "output_type": "display_data"
    },
    {
     "data": {
      "application/vnd.jupyter.widget-view+json": {
       "model_id": "",
       "version_major": 2,
       "version_minor": 0
      },
      "text/plain": [
       "Generating train split: 0 examples [00:00, ? examples/s]"
      ]
     },
     "metadata": {},
     "output_type": "display_data"
    },
    {
     "name": "stdout",
     "output_type": "stream",
     "text": [
      "Dataset json downloaded and prepared to /home/acf15802az/.cache/huggingface/datasets/json/default-e81a17a045232274/0.0.0/e347ab1c932092252e717ff3f949105a4dd28b27e842dd53157d2f72e276c2e4. Subsequent calls will reuse this data.\n",
      "processing 20th data.\n",
      "processing R3 data.\n",
      "Downloading and preparing dataset json/default to /home/acf15802az/.cache/huggingface/datasets/json/default-5930e0f5dc0720f3/0.0.0/e347ab1c932092252e717ff3f949105a4dd28b27e842dd53157d2f72e276c2e4...\n"
     ]
    },
    {
     "data": {
      "application/vnd.jupyter.widget-view+json": {
       "model_id": "1a3c14ed80874ec08bb4c3902345e155",
       "version_major": 2,
       "version_minor": 0
      },
      "text/plain": [
       "Downloading data files:   0%|          | 0/1 [00:00<?, ?it/s]"
      ]
     },
     "metadata": {},
     "output_type": "display_data"
    },
    {
     "data": {
      "application/vnd.jupyter.widget-view+json": {
       "model_id": "19308be50b3848f3bfe5db647c6c2ff9",
       "version_major": 2,
       "version_minor": 0
      },
      "text/plain": [
       "Extracting data files:   0%|          | 0/1 [00:00<?, ?it/s]"
      ]
     },
     "metadata": {},
     "output_type": "display_data"
    },
    {
     "data": {
      "application/vnd.jupyter.widget-view+json": {
       "model_id": "",
       "version_major": 2,
       "version_minor": 0
      },
      "text/plain": [
       "Generating train split: 0 examples [00:00, ? examples/s]"
      ]
     },
     "metadata": {},
     "output_type": "display_data"
    },
    {
     "name": "stdout",
     "output_type": "stream",
     "text": [
      "Dataset json downloaded and prepared to /home/acf15802az/.cache/huggingface/datasets/json/default-5930e0f5dc0720f3/0.0.0/e347ab1c932092252e717ff3f949105a4dd28b27e842dd53157d2f72e276c2e4. Subsequent calls will reuse this data.\n",
      "processing 20th data.\n"
     ]
    }
   ],
   "source": [
    "start_time = time.time()\n",
    "print(start_time)\n",
    "\n",
    "for j in range(1, 4):\n",
    "    # logger.info(f\"processing R{j} data.\")\n",
    "    print(f\"processing R{j} data.\")\n",
    "    dataset = load_dataset(test_file=config[\"data\"][f\"test_file{j}\"])\n",
    "\n",
    "    with open(output_file, \"a\") as o_:\n",
    "        for i, data in enumerate(dataset):\n",
    "            if data[\"subject\"] != \"民法\":\n",
    "                continue\n",
    "            elif i >= 21:\n",
    "                break\n",
    "            else:\n",
    "                # logger.info(f\"processing {i}th data.\")\n",
    "                print(f\"processing {i}th data.\")\n",
    "                year = data[\"year\"]\n",
    "                subject = data[\"subject\"]\n",
    "                Q_no = data[\"Q_no\"]\n",
    "                prompt = config[\"prompt\"].format_map(data)\n",
    "                generated = generate_text(prompt)\n",
    "                json.dump(dict(year=year, subject=subject, Q_no=Q_no, prompt=prompt, complete=generated), o_, ensure_ascii=False)\n",
    "                o_.write(\"\\n\")\n",
    "                o_.flush()\n",
    "                \n",
    "duration = time.time() - start_time"
   ]
  },
  {
   "cell_type": "code",
   "execution_count": 7,
   "metadata": {},
   "outputs": [
    {
     "name": "stdout",
     "output_type": "stream",
     "text": [
      "duration: 735.6218545436859\n"
     ]
    }
   ],
   "source": [
    "print(f\"duration: {duration}\")"
   ]
  }
 ],
 "metadata": {
  "kernelspec": {
   "display_name": "Python 3 (ipykernel)",
   "language": "python",
   "name": "python3"
  },
  "language_info": {
   "codemirror_mode": {
    "name": "ipython",
    "version": 3
   },
   "file_extension": ".py",
   "mimetype": "text/x-python",
   "name": "python",
   "nbconvert_exporter": "python",
   "pygments_lexer": "ipython3",
   "version": "3.10.10"
  }
 },
 "nbformat": 4,
 "nbformat_minor": 4
}
