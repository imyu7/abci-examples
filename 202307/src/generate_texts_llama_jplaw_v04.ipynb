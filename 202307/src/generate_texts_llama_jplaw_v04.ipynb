{
 "cells": [
  {
   "cell_type": "code",
   "execution_count": null,
   "metadata": {},
   "outputs": [],
   "source": [
    "import datetime\n",
    "import json\n",
    "import logging\n",
    "import os\n",
    "import pathlib\n",
    "import sys\n",
    "import pydoc\n",
    "import time\n",
    "\n",
    "import datasets\n",
    "import fire\n",
    "import torch\n",
    "import yaml\n",
    "\n",
    "import transformers"
   ]
  },
  {
   "cell_type": "code",
   "execution_count": null,
   "metadata": {},
   "outputs": [],
   "source": [
    "def load_dataset(test_file: str):\n",
    "    return datasets.load_dataset(\"json\", data_files=test_file, split=\"train\")\n",
    "\n",
    "def generate_text_fn(model, tokenizer, args: dict = {}):\n",
    "    def generate_text(prompt: str) -> str:\n",
    "        input_tokens = tokenizer(prompt, return_tensors=\"pt\").to(model.device)\n",
    "        input_length = input_tokens.input_ids.shape[1]\n",
    "\n",
    "        with torch.no_grad():\n",
    "            outputs = model.generate(\n",
    "                input_ids=input_tokens[\"input_ids\"],\n",
    "                attention_mask=input_tokens[\"attention_mask\"],\n",
    "                return_dict_in_generate=True,\n",
    "                eos_token_id=tokenizer.eos_token_id,\n",
    "                pad_token_id=tokenizer.pad_token_id,\n",
    "                **args,\n",
    "            )\n",
    "            output_tokens = outputs.sequences[0, input_length:-1]\n",
    "\n",
    "        return tokenizer.decode(output_tokens)\n",
    "\n",
    "    return generate_text"
   ]
  },
  {
   "cell_type": "code",
   "execution_count": null,
   "metadata": {},
   "outputs": [],
   "source": [
    "# 設定ファイルの読み込み\n",
    "config_file = \"../config/config_generate_texts_llama_jplaw_v04.yaml\"\n",
    "with open(config_file, \"r\") as i_:\n",
    "    config = yaml.safe_load(i_)\n",
    "    \n",
    "print(config)"
   ]
  },
  {
   "cell_type": "code",
   "execution_count": null,
   "metadata": {},
   "outputs": [],
   "source": [
    "model_name = config[\"model\"][\"pretrained_model_name_or_path\"]\n",
    "    \n",
    "# logger.info(f\"model_name: {model_name}\")\n",
    "print(f\"model_name: {model_name}\")\n",
    "\n",
    "# 出力先ディレクトリの設定\n",
    "output_dir = pathlib.Path(os.path.expandvars(config[\"outputs\"][\"dirname\"]))\n",
    "output_dir.mkdir(parents=True, exist_ok=True)\n",
    "\n",
    "# 出力先ディレクトリに、最終的な設定値を保存しておく\n",
    "with open(output_dir.joinpath(\"config.yaml\"), \"w\") as o_:\n",
    "    yaml.dump(config, o_)\n",
    "\n",
    "# トークナイザのロード\n",
    "# logger.info(f\"load tokenizer\")\n",
    "print(f\"load tokenizer\")\n",
    "tokenizer = transformers.AutoTokenizer.from_pretrained(model_name)\n",
    "if tokenizer.pad_token is None:\n",
    "    tokenizer.pad_token = tokenizer.eos_token\n",
    "    # logger.info(f\"set pad_token to {tokenizer.pad_token}\")\n",
    "    \n",
    "\n",
    "# モデルのロード\n",
    "# logger.info(f\"load model: {config['model']}\")\n",
    "print(f\"load model: {config['model']}\")\n",
    "# torch_dtypeを文字列から型に変換しておく\n",
    "if \"torch_dtype\" in config[\"model\"]:\n",
    "    config[\"model\"][\"torch_dtype\"] = pydoc.locate(config[\"model\"][\"torch_dtype\"])\n",
    "model = transformers.AutoModelForCausalLM.from_pretrained(**config[\"model\"])\n",
    "\n",
    "generate_text = generate_text_fn(model, tokenizer, config[\"generate\"])\n",
    "# generate_text = generate_text_fn(model, tokenizer)\n",
    "output_file = output_dir.joinpath(config[\"outputs\"][\"filename\"])"
   ]
  },
  {
   "cell_type": "code",
   "execution_count": null,
   "metadata": {},
   "outputs": [],
   "source": [
    "!nvidia-smi"
   ]
  },
  {
   "cell_type": "code",
   "execution_count": null,
   "metadata": {},
   "outputs": [],
   "source": [
    "start_time = time.time()\n",
    "\n",
    "for j in range(1, 4):\n",
    "    # logger.info(f\"processing R{j} data.\")\n",
    "    print(f\"processing R{j} data.\")\n",
    "    dataset = load_dataset(test_file=config[\"data\"][f\"test_file{j}\"])\n",
    "\n",
    "    with open(output_file, \"a\") as o_:\n",
    "        for i, data in enumerate(dataset):\n",
    "            if data[\"subject\"] != \"民法\":\n",
    "                continue\n",
    "            else:\n",
    "                # logger.info(f\"processing {i}th data.\")\n",
    "                print(f\"processing {i}th data.\")\n",
    "                year = data[\"year\"]\n",
    "                subject = data[\"subject\"]\n",
    "                Q_no = data[\"Q_no\"]\n",
    "                prompt = config[\"prompt\"].format_map(data)\n",
    "                generated = generate_text(prompt)\n",
    "                json.dump(dict(year=year, subject=subject, Q_no=Q_no, prompt=prompt, complete=generated), o_, ensure_ascii=False)\n",
    "                o_.write(\"\\n\")\n",
    "                o_.flush()\n",
    "                \n",
    "duration = time.time() - start_time"
   ]
  },
  {
   "cell_type": "code",
   "execution_count": null,
   "metadata": {},
   "outputs": [],
   "source": [
    "print(f\"duration: {duration}\")"
   ]
  }
 ],
 "metadata": {
  "language_info": {
   "name": "python"
  }
 },
 "nbformat": 4,
 "nbformat_minor": 2
}
